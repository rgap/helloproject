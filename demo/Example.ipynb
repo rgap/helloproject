{
 "cells": [
  {
   "cell_type": "code",
   "execution_count": 5,
   "metadata": {},
   "outputs": [
    {
     "name": "stdout",
     "output_type": "stream",
     "text": [
      "Hello!\n"
     ]
    }
   ],
   "source": [
    "from helloproject import helloproject\n",
    "helloproject.hello()"
   ]
  },
  {
   "cell_type": "code",
   "execution_count": 11,
   "metadata": {},
   "outputs": [
    {
     "name": "stdout",
     "output_type": "stream",
     "text": [
      "2.0\n"
     ]
    }
   ],
   "source": [
    "from helloproject.characters.zombie import Zombie\n",
    "zombie = Zombie('a', 1.0, 2.0)\n",
    "print(zombie.speed_boost)"
   ]
  }
 ],
 "metadata": {
  "kernelspec": {
   "display_name": "Python 3.7.4 64-bit ('rgap-lectures': virtualenv)",
   "language": "python",
   "name": "python37464bitrgaplecturesvirtualenv750ee0949a274166a947149e9c4e71b7"
  }
 },
 "nbformat": 4,
 "nbformat_minor": 2
}
